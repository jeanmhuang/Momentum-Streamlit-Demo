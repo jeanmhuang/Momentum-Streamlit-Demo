{
  "nbformat": 4,
  "nbformat_minor": 0,
  "metadata": {
    "colab": {
      "provenance": [],
      "authorship_tag": "ABX9TyNtaXs5As2FleoL7Hbb4Gaf",
      "include_colab_link": true
    },
    "kernelspec": {
      "name": "python3",
      "display_name": "Python 3"
    },
    "language_info": {
      "name": "python"
    }
  },
  "cells": [
    {
      "cell_type": "markdown",
      "metadata": {
        "id": "view-in-github",
        "colab_type": "text"
      },
      "source": [
        "<a href=\"https://colab.research.google.com/github/jeanmhuang/Momentum-Streamlit-Demo/blob/main/momentum_backtest_demo.ipynb\" target=\"_parent\"><img src=\"https://colab.research.google.com/assets/colab-badge.svg\" alt=\"Open In Colab\"/></a>"
      ]
    },
    {
      "cell_type": "code",
      "source": [
        "!pip install --quiet yfinance matplotlib pandas\n",
        "\n",
        "import yfinance as yf, pandas as pd, numpy as np, matplotlib.pyplot as plt\n",
        "\n",
        "# --- Parameters ---\n",
        "ticker = \"SPY\"\n",
        "start = \"2015-01-01\"\n",
        "lookback = 252    # ~12 months\n",
        "skip_recent = 21  # ~1 month\n",
        "allow_short = True\n",
        "tc_bps = 10       # transaction cost per side\n",
        "\n",
        "# --- Data ---\n",
        "data = yf.download(ticker, start=start, auto_adjust=True, progress=False)\n",
        "px = data[\"Close\"]\n",
        "ret = px.pct_change()\n",
        "\n",
        "# --- Momentum signal (12-1 proxy) ---\n",
        "signal = px.pct_change(lookback) - px.pct_change(skip_recent)\n",
        "\n",
        "# --- Positions ---\n",
        "pos = np.where(signal > 0, 1, -1 if allow_short else 0)\n",
        "pos = pd.Series(pos, index=px.index).shift(1).fillna(0)\n",
        "\n",
        "# --- Strategy returns with simple TC ---\n",
        "turnover = pos.diff().abs().fillna(0)\n",
        "tc = (tc_bps/10000.0) * turnover\n",
        "strat = pos * ret - tc\n",
        "\n",
        "# --- Equity curves ---\n",
        "eq = pd.DataFrame({\n",
        "    \"Buy & Hold\": (1+ret).cumprod(),\n",
        "    \"Strategy\": (1+strat).cumprod()\n",
        "})\n",
        "\n",
        "eq.plot(figsize=(10,5), title=f\"Momentum vs Buy & Hold: {ticker}\")\n",
        "plt.ylabel(\"Growth of $1\")\n",
        "plt.show()\n",
        "\n",
        "# --- Drawdown ---\n",
        "dd = (1+strat).cumprod() / (1+strat).cumprod().cummax() - 1\n",
        "dd.plot(figsize=(10,3), title=\"Strategy Drawdown\")\n",
        "plt.show()\n"
      ],
      "metadata": {
        "id": "PjtwVVUhB-UG"
      },
      "execution_count": null,
      "outputs": []
    }
  ]
}